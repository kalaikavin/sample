{
  "nbformat": 4,
  "nbformat_minor": 0,
  "metadata": {
    "colab": {
      "name": "my first colab file.ipynb",
      "provenance": [],
      "collapsed_sections": [],
      "toc_visible": true,
      "authorship_tag": "ABX9TyMTLQSvVoha57GTAmJH/zLX",
      "include_colab_link": true
    },
    "kernelspec": {
      "name": "python3",
      "display_name": "Python 3"
    }
  },
  "cells": [
    {
      "cell_type": "markdown",
      "metadata": {
        "id": "view-in-github",
        "colab_type": "text"
      },
      "source": [
        "<a href=\"https://colab.research.google.com/github/kalaikavin/sample/blob/main/my_first_colab_file.ipynb\" target=\"_parent\"><img src=\"https://colab.research.google.com/assets/colab-badge.svg\" alt=\"Open In Colab\"/></a>"
      ]
    },
    {
      "cell_type": "code",
      "metadata": {
        "colab": {
          "base_uri": "https://localhost:8080/"
        },
        "id": "M2Byy4jHr1Bk",
        "outputId": "8d274dbd-eafb-464d-d4a9-d70e037344cc"
      },
      "source": [
        "import time\r\n",
        "print(time.ctime())"
      ],
      "execution_count": 13,
      "outputs": [
        {
          "output_type": "stream",
          "text": [
            "Wed Feb 17 16:32:40 2021\n"
          ],
          "name": "stdout"
        }
      ]
    },
    {
      "cell_type": "code",
      "metadata": {
        "id": "tbG_7B1FtNmh"
      },
      "source": [
        "time.sleep(5)"
      ],
      "execution_count": 14,
      "outputs": []
    },
    {
      "cell_type": "code",
      "metadata": {
        "colab": {
          "base_uri": "https://localhost:8080/"
        },
        "id": "x2UAQDoXtUwK",
        "outputId": "4800eb29-f539-4d8b-da88-feacde0dbc77"
      },
      "source": [
        "print(time.ctime())"
      ],
      "execution_count": 15,
      "outputs": [
        {
          "output_type": "stream",
          "text": [
            "Wed Feb 17 16:32:46 2021\n"
          ],
          "name": "stdout"
        }
      ]
    },
    {
      "cell_type": "markdown",
      "metadata": {
        "id": "jJAvFcGqwVxj"
      },
      "source": [
        "This is **bold text**\r\n",
        "\r\n",
        "This is **italicized text**\r\n",
        "\r\n",
        "This ~sricke~\r\n",
        "\r\n"
      ]
    },
    {
      "cell_type": "markdown",
      "metadata": {
        "id": "4Y1JMb-DxeM4"
      },
      "source": [
        "# maths equation "
      ]
    },
    {
      "cell_type": "markdown",
      "metadata": {
        "id": "GJEaQ-ucx8iv"
      },
      "source": [
        "$\\sqrt(3x+1)+(1+x)^5$\r\n",
        "\r\n",
        "$e^x=\\sum_{1=0}^\\infty\\frac{1}{1!}x^i$"
      ]
    },
    {
      "cell_type": "markdown",
      "metadata": {
        "id": "D5rSIu_x1nHR"
      },
      "source": [
        "# **import data**"
      ]
    },
    {
      "cell_type": "code",
      "metadata": {
        "colab": {
          "base_uri": "https://localhost:8080/"
        },
        "id": "QCneWiKq1yqf",
        "outputId": "1eb944b0-122a-4320-f906-c6eb2af52bac"
      },
      "source": [
        "!ls"
      ],
      "execution_count": 16,
      "outputs": [
        {
          "output_type": "stream",
          "text": [
            "sample_data\n"
          ],
          "name": "stdout"
        }
      ]
    },
    {
      "cell_type": "code",
      "metadata": {
        "id": "CIzNvjV_2v_k"
      },
      "source": [
        ""
      ],
      "execution_count": null,
      "outputs": []
    }
  ]
}